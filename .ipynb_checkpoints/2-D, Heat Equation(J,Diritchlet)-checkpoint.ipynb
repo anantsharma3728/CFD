{
 "cells": [
  {
   "cell_type": "code",
   "execution_count": 2,
   "metadata": {},
   "outputs": [],
   "source": [
    "import numpy as np\n",
    "import matplotlib.pyplot as plt\n",
    "import matplotlib.animation as anm\n",
    "import seaborn as sns\n",
    "from matplotlib.animation import FuncAnimation"
   ]
  },
  {
   "cell_type": "code",
   "execution_count": 3,
   "metadata": {},
   "outputs": [],
   "source": [
    "plate_length = 50\n",
    "max_iter_time = 350"
   ]
  },
  {
   "cell_type": "code",
   "execution_count": 4,
   "metadata": {},
   "outputs": [
    {
     "name": "stdout",
     "output_type": "stream",
     "text": [
      "Set values for the top Boundary condition 1000\n"
     ]
    }
   ],
   "source": [
    "u_initial = 0\n",
    "u_top = int(input(\"Set values for the top Boundary condition \"))"
   ]
  },
  {
   "cell_type": "code",
   "execution_count": 5,
   "metadata": {},
   "outputs": [
    {
     "name": "stdout",
     "output_type": "stream",
     "text": [
      "Set values for the left Boundary condition 2000\n"
     ]
    }
   ],
   "source": [
    "u_left =int(input(\"Set values for the left Boundary condition \"))"
   ]
  },
  {
   "cell_type": "code",
   "execution_count": 6,
   "metadata": {},
   "outputs": [
    {
     "name": "stdout",
     "output_type": "stream",
     "text": [
      "Set values for the right Boundary condition 8000\n"
     ]
    }
   ],
   "source": [
    "u_right = int(input(\"Set values for the right Boundary condition \"))"
   ]
  },
  {
   "cell_type": "code",
   "execution_count": 7,
   "metadata": {},
   "outputs": [
    {
     "name": "stdout",
     "output_type": "stream",
     "text": [
      "Set values for the bottom Boundary condition 4300\n"
     ]
    }
   ],
   "source": [
    "u_bottom = int(input(\"Set values for the bottom Boundary condition \"))"
   ]
  },
  {
   "cell_type": "code",
   "execution_count": 8,
   "metadata": {},
   "outputs": [],
   "source": [
    "u = np.zeros([plate_length,plate_length])"
   ]
  },
  {
   "cell_type": "code",
   "execution_count": 9,
   "metadata": {},
   "outputs": [
    {
     "name": "stdout",
     "output_type": "stream",
     "text": [
      "[[1000. 1000. 1000. ... 1000. 1000. 1000.]\n",
      " [2000.    0.    0. ...    0.    0. 8000.]\n",
      " [2000.    0.    0. ...    0.    0. 8000.]\n",
      " ...\n",
      " [2000.    0.    0. ...    0.    0. 8000.]\n",
      " [2000.    0.    0. ...    0.    0. 8000.]\n",
      " [4300. 4300. 4300. ... 4300. 4300. 4300.]]\n"
     ]
    }
   ],
   "source": [
    "u[0, :] = u_top\n",
    "u[plate_length-1, :] = u_bottom\n",
    "u[1:plate_length-1, 0] = u_left\n",
    "u[1:plate_length-1, plate_length-1] = u_right\n",
    "print(u)"
   ]
  },
  {
   "cell_type": "code",
   "execution_count": 10,
   "metadata": {},
   "outputs": [
    {
     "name": "stdout",
     "output_type": "stream",
     "text": [
      "[[1000. 1000. 1000. ... 1000. 1000. 1000.]\n",
      " [2000.    0.    0. ...    0.    0. 8000.]\n",
      " [2000.    0.    0. ...    0.    0. 8000.]\n",
      " ...\n",
      " [2000.    0.    0. ...    0.    0. 8000.]\n",
      " [2000.    0.    0. ...    0.    0. 8000.]\n",
      " [4300. 4300. 4300. ... 4300. 4300. 4300.]]\n"
     ]
    }
   ],
   "source": [
    "def calculate(u):\n",
    "    for k in range(1, max_iter_time-1, 1):\n",
    "        for i in range(1, plate_length-1, 1):\n",
    "            for j in range(1, plate_length-1, 1):\n",
    "                u[i, j] = 0.25 * (u[i+1][j] + u[i-1][j] + u[i][j+1] + u[i][j-1]) \n",
    "    return u        \n",
    "print(u)\n"
   ]
  },
  {
   "cell_type": "code",
   "execution_count": 12,
   "metadata": {},
   "outputs": [],
   "source": [
    "def plotheatmap(u_k, k):\n",
    "    plt.xlabel(\"x\")\n",
    "    plt.ylabel(\"y\")\n",
    "    \n",
    "    plt.pcolormesh(u_k, cmap = plt.cm.jet)\n",
    "    plt.colorbar()\n",
    "    \n",
    "    return plt\n",
    "u = calculate(u)\n",
    "\n",
    "X, Y = np.meshgrid(np.arange(0, plate_length), np.arange(0, plate_length))\n",
    "colorinterpolation=40\n"
   ]
  },
  {
   "cell_type": "code",
   "execution_count": 13,
   "metadata": {},
   "outputs": [
    {
     "data": {
      "image/png": "[encoded data removed]",
      "text/plain": [
       "<Figure size 432x288 with 2 Axes>"
      ]
     },
     "metadata": {
      "needs_background": "light"
     },
     "output_type": "display_data"
    }
   ],
   "source": [
    "plt.contourf(X, Y, u,colorinterpolation,cmap='magma')\n",
    "plt.colorbar()\n",
    "plt.savefig('Colormap.png')"
   ]
  },
  {
   "cell_type": "code",
   "execution_count": null,
   "metadata": {},
   "outputs": [],
   "source": []
  },
  {
   "cell_type": "code",
   "execution_count": null,
   "metadata": {},
   "outputs": [],
   "source": []
  },
  {
   "cell_type": "code",
   "execution_count": null,
   "metadata": {},
   "outputs": [],
   "source": []
  },
  {
   "cell_type": "code",
   "execution_count": null,
   "metadata": {},
   "outputs": [],
   "source": []
  }
 ],
 "metadata": {
  "kernelspec": {
   "display_name": "Python 3",
   "language": "python",
   "name": "python3"
  },
  "language_info": {
   "codemirror_mode": {
    "name": "ipython",
    "version": 3
   },
   "file_extension": ".py",
   "mimetype": "text/x-python",
   "name": "python",
   "nbconvert_exporter": "python",
   "pygments_lexer": "ipython3",
   "version": "3.8.5"
  }
 },
 "nbformat": 4,
 "nbformat_minor": 4
}

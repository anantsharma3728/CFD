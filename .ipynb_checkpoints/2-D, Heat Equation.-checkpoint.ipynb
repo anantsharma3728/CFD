{
 "cells": [
  {
   "cell_type": "code",
   "execution_count": 1,
   "metadata": {},
   "outputs": [],
   "source": [
    "import numpy as np\n",
    "import matplotlib.pyplot as plt\n",
    "import matplotlib.animation as anm\n",
    "import seaborn as sns\n",
    "from matplotlib.animation import FuncAnimation"
   ]
  },
  {
   "cell_type": "code",
   "execution_count": 2,
   "metadata": {},
   "outputs": [],
   "source": []
  },
  {
   "cell_type": "code",
   "execution_count": 36,
   "metadata": {},
   "outputs": [
    {
     "name": "stdout",
     "output_type": "stream",
     "text": [
      "2D heat equation solver\n"
     ]
    },
    {
     "data": {
      "text/plain": [
       "array([[0., 0., 0., ..., 0., 0., 0.],\n",
       "       [0., 0., 0., ..., 0., 0., 0.],\n",
       "       [0., 0., 0., ..., 0., 0., 0.],\n",
       "       ...,\n",
       "       [0., 0., 0., ..., 0., 0., 0.],\n",
       "       [0., 0., 0., ..., 0., 0., 0.],\n",
       "       [0., 0., 0., ..., 0., 0., 0.]])"
      ]
     },
     "execution_count": 36,
     "metadata": {},
     "output_type": "execute_result"
    }
   ],
   "source": [
    "print(\"2D heat equation solver\")\n",
    "n=50\n",
    "maxiter=500\n",
    "a=np.zeros((n,n))\n",
    "a"
   ]
  },
  {
   "cell_type": "code",
   "execution_count": 37,
   "metadata": {},
   "outputs": [
    {
     "name": "stdout",
     "output_type": "stream",
     "text": [
      "[0. 0. 0. 0. 0. 0. 0. 0. 0. 0. 0. 0. 0. 0. 0. 0. 0. 0. 0. 0. 0. 0. 0. 0.\n",
      " 0. 0. 0. 0. 0. 0. 0. 0. 0. 0. 0. 0. 0. 0. 0. 0. 0. 0. 0. 0. 0. 0. 0. 0.\n",
      " 0. 0.]\n",
      "[0. 0. 0. 0. 0. 0. 0. 0. 0. 0. 0. 0. 0. 0. 0. 0. 0. 0. 0. 0. 0. 0. 0. 0.\n",
      " 0. 0. 0. 0. 0. 0. 0. 0. 0. 0. 0. 0. 0. 0. 0. 0. 0. 0. 0. 0. 0. 0. 0. 0.\n",
      " 0. 0.]\n",
      "[0. 0. 0. 0. 0. 0. 0. 0. 0. 0. 0. 0. 0. 0. 0. 0. 0. 0. 0. 0. 0. 0. 0. 0.\n",
      " 0. 0. 0. 0. 0. 0. 0. 0. 0. 0. 0. 0. 0. 0. 0. 0. 0. 0. 0. 0. 0. 0. 0. 0.]\n",
      "[0. 0. 0. 0. 0. 0. 0. 0. 0. 0. 0. 0. 0. 0. 0. 0. 0. 0. 0. 0. 0. 0. 0. 0.\n",
      " 0. 0. 0. 0. 0. 0. 0. 0. 0. 0. 0. 0. 0. 0. 0. 0. 0. 0. 0. 0. 0. 0. 0. 0.]\n"
     ]
    }
   ],
   "source": [
    "BC_top=a[0,:]\n",
    "BC_bottom=a[n-1,:]\n",
    "BC_right=a[1:n-1,n-1]\n",
    "BC_left=a[1:n-1,0]\n",
    "print(BC_top)\n",
    "print(BC_bottom)\n",
    "print(BC_right)\n",
    "print(BC_left)"
   ]
  },
  {
   "cell_type": "code",
   "execution_count": 39,
   "metadata": {},
   "outputs": [
    {
     "name": "stdout",
     "output_type": "stream",
     "text": [
      "Set values for the top Boundary condition 5000\n"
     ]
    }
   ],
   "source": [
    "a[0,:]=int(input(\"Set values for the top Boundary condition \"))"
   ]
  },
  {
   "cell_type": "code",
   "execution_count": 40,
   "metadata": {},
   "outputs": [
    {
     "name": "stdout",
     "output_type": "stream",
     "text": [
      "Set values for the bottom Boundary condition 3000\n"
     ]
    }
   ],
   "source": [
    "a[n-1,:]=int(input(\"Set values for the bottom Boundary condition \"))"
   ]
  },
  {
   "cell_type": "code",
   "execution_count": 41,
   "metadata": {},
   "outputs": [
    {
     "name": "stdout",
     "output_type": "stream",
     "text": [
      "Set values for the right Boundary condition 2000\n"
     ]
    }
   ],
   "source": [
    "a[1:n-1,n-1]=int(input(\"Set values for the right Boundary condition \"))"
   ]
  },
  {
   "cell_type": "code",
   "execution_count": 42,
   "metadata": {},
   "outputs": [
    {
     "name": "stdout",
     "output_type": "stream",
     "text": [
      "Set values for the left Boundary condition 1000\n"
     ]
    }
   ],
   "source": [
    "a[1:n-1,0]=int(input(\"Set values for the left Boundary condition \"))"
   ]
  },
  {
   "cell_type": "code",
   "execution_count": 43,
   "metadata": {},
   "outputs": [
    {
     "name": "stdout",
     "output_type": "stream",
     "text": [
      "[[5000. 5000. 5000. ... 5000. 5000. 5000.]\n",
      " [1000.    0.    0. ...    0.    0. 2000.]\n",
      " [1000.    0.    0. ...    0.    0. 2000.]\n",
      " ...\n",
      " [1000.    0.    0. ...    0.    0. 2000.]\n",
      " [1000.    0.    0. ...    0.    0. 2000.]\n",
      " [3000. 3000. 3000. ... 3000. 3000. 3000.]]\n"
     ]
    }
   ],
   "source": [
    "print(a)"
   ]
  },
  {
   "cell_type": "code",
   "execution_count": 46,
   "metadata": {},
   "outputs": [
    {
     "name": "stdout",
     "output_type": "stream",
     "text": [
      "[[5000.         5000.         5000.         ... 5000.\n",
      "  5000.         5000.        ]\n",
      " [1000.         2996.96327776 3784.55155825 ... 4085.42492338\n",
      "  3496.23706801 2000.        ]\n",
      " [1000.         2203.34373799 2987.93732012 ... 3484.9887095\n",
      "  2899.54355005 2000.        ]\n",
      " ...\n",
      " [1000.         1602.8110067  1996.25334971 ... 2493.24135451\n",
      "  2298.9767786  2000.        ]\n",
      " [1000.         1999.05407706 2393.4238406  ... 2694.26458664\n",
      "  2498.31034131 2000.        ]\n",
      " [3000.         3000.         3000.         ... 3000.\n",
      "  3000.         3000.        ]]\n"
     ]
    }
   ],
   "source": [
    "def cal(a):\n",
    "    for k in range(1, maxiter-1, 1):\n",
    "        for i in range(1, n-1, 1):\n",
    "            for j in range(1, n-1, 1):\n",
    "                a[i, j] = 0.25 * (a[i+1][j] + a[i-1][j] + a[i][j+1] + a[i][j-1])\n",
    "    return a\n",
    "b=cal(a)\n",
    "print(b)"
   ]
  },
  {
   "cell_type": "code",
   "execution_count": 47,
   "metadata": {},
   "outputs": [
    {
     "name": "stdout",
     "output_type": "stream",
     "text": [
      "[[5000.         5000.         5000.         ... 5000.\n",
      "  5000.         5000.        ]\n",
      " [1000.         2996.96327776 3784.55155825 ... 4085.42492338\n",
      "  3496.23706801 2000.        ]\n",
      " [1000.         2203.34373799 2987.93732012 ... 3484.9887095\n",
      "  2899.54355005 2000.        ]\n",
      " ...\n",
      " [1000.         1602.8110067  1996.25334971 ... 2493.24135451\n",
      "  2298.9767786  2000.        ]\n",
      " [1000.         1999.05407706 2393.4238406  ... 2694.26458664\n",
      "  2498.31034131 2000.        ]\n",
      " [3000.         3000.         3000.         ... 3000.\n",
      "  3000.         3000.        ]]\n"
     ]
    },
    {
     "data": {
      "text/plain": [
       "<matplotlib.colorbar.Colorbar at 0x1fcd5c3f880>"
      ]
     },
     "execution_count": 47,
     "metadata": {},
     "output_type": "execute_result"
    },
    {
     "data": {
      "image/png": "[encoded data removed]",
      "text/plain": [
       "<Figure size 288x288 with 2 Axes>"
      ]
     },
     "metadata": {
      "needs_background": "light"
     },
     "output_type": "display_data"
    }
   ],
   "source": [
    "print(b)\n",
    "plt.matshow(b)\n",
    "plt.colorbar()"
   ]
  },
  {
   "cell_type": "code",
   "execution_count": null,
   "metadata": {},
   "outputs": [],
   "source": []
  },
  {
   "cell_type": "code",
   "execution_count": null,
   "metadata": {},
   "outputs": [],
   "source": []
  },
  {
   "cell_type": "code",
   "execution_count": null,
   "metadata": {},
   "outputs": [],
   "source": []
  },
  {
   "cell_type": "code",
   "execution_count": null,
   "metadata": {},
   "outputs": [],
   "source": []
  },
  {
   "cell_type": "code",
   "execution_count": null,
   "metadata": {},
   "outputs": [],
   "source": []
  },
  {
   "cell_type": "code",
   "execution_count": null,
   "metadata": {},
   "outputs": [],
   "source": []
  }
 ],
 "metadata": {
  "kernelspec": {
   "display_name": "Python 3",
   "language": "python",
   "name": "python3"
  },
  "language_info": {
   "codemirror_mode": {
    "name": "ipython",
    "version": 3
   },
   "file_extension": ".py",
   "mimetype": "text/x-python",
   "name": "python",
   "nbconvert_exporter": "python",
   "pygments_lexer": "ipython3",
   "version": "3.8.5"
  }
 },
 "nbformat": 4,
 "nbformat_minor": 4
}
